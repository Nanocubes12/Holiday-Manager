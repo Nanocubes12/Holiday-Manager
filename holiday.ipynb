{
 "cells": [
  {
   "cell_type": "code",
   "execution_count": 35,
   "metadata": {},
   "outputs": [
    {
     "name": "stdout",
     "output_type": "stream",
     "text": [
      "Margaret Thatcher Day\n",
      " 2021-01-10\n",
      "World Sketchnote Day\n",
      " 2021-01-11\n",
      "Zanzibar Revolution Day\n",
      " 2021-01-12\n",
      "National Rubber Ducky Day\n",
      " 2021-01-13\n",
      "Tamil Thai Pongdal Day\n",
      " 2021-01-14\n",
      "National Bagel Day\n",
      " 2021-01-15\n",
      "Signing of the Peace Accords\n",
      " 2021-01-16\n"
     ]
    }
   ],
   "source": [
    "with open('holidays.json','r') as h:\n",
    "    holiday= json.load(h)\n",
    "\n",
    "holi= holiday['holidays']\n",
    "\n",
    "#Test append\n",
    "# name= holiday['holidays'][6]['name']\n",
    "# date= holiday['holidays'][0]['date']\n",
    "# name_date= f'{name}, {date}'\n",
    "# testAppend=[]\n",
    "# testAppend.append(name_date)\n",
    "\n",
    "innerHolidays= []\n",
    "for i in range(len(holi)):\n",
    "    name= holiday['holidays'][i]['name']\n",
    "    date= holiday['holidays'][i]['date']\n",
    "    innerHolidays.append(f'{name}, {date}')\n",
    "\n",
    "##Extracting names from innerHolidays\n",
    "# print([x.split(',')[0] for x in innerHolidays])\n",
    "##Extracting dates from innerHolidays\n",
    "# print([x.split(',')[1] for x in innerHolidays])\n",
    "\n",
    "for i in innerHolidays:\n",
    "    print(i.split(',')[0])\n",
    "    print(i.split(',')[1])\n"
   ]
  },
  {
   "cell_type": "code",
   "execution_count": 49,
   "metadata": {},
   "outputs": [
    {
     "name": "stdout",
     "output_type": "stream",
     "text": [
      "2022-12-15\n"
     ]
    }
   ],
   "source": [
    "\n",
    "date= str(input('Enter the Holiday\\'s Date [format:YYYY-MM-DD]\\n'))\n",
    "try:\n",
    "    date= [int(item) for item in list(date.split('-'))]\n",
    "    date= datetime.date(date[0],date[1],date[2])\n",
    "    print(date)\n",
    "except:\n",
    "    print('Wrong input. Please use format YYYY-MM-DD')\n",
    "\n",
    "# str(date)\n",
    " "
   ]
  },
  {
   "cell_type": "code",
   "execution_count": 57,
   "metadata": {},
   "outputs": [
    {
     "name": "stdout",
     "output_type": "stream",
     "text": [
      "['Margaret Thatcher Day, 2021-01-10', 'World Sketchnote Day, 2021-01-11', 'Zanzibar Revolution Day, 2021-01-12', 'National Rubber Ducky Day, 2021-01-13', 'Tamil Thai Pongdal Day, 2021-01-14', 'National Bagel Day, 2021-01-15', 'Signing of the Peace Accords, 2021-01-16', 'test, 2022-12-15']\n"
     ]
    }
   ],
   "source": [
    "#Add\n",
    "holidayName= str(input('Enter the Holiday Name\\n'))\n",
    "# date= str(input('Enter the Holiday\\'s Date [format:YYYY-MM-DD]\\n'))\n",
    "innerHolidays.append(f'{holidayName}, {str(date)}')\n",
    "print(innerHolidays)\n"
   ]
  },
  {
   "cell_type": "code",
   "execution_count": 52,
   "metadata": {},
   "outputs": [
    {
     "name": "stdout",
     "output_type": "stream",
     "text": [
      "Name or date not in Holiday list.\n",
      "Name or date not in Holiday list.\n",
      "Name or date not in Holiday list.\n",
      "Name or date not in Holiday list.\n",
      "Name or date not in Holiday list.\n",
      "Name or date not in Holiday list.\n",
      "Name or date not in Holiday list.\n",
      "['Margaret Thatcher Day, 2021-01-10', 'World Sketchnote Day, 2021-01-11', 'Zanzibar Revolution Day, 2021-01-12', 'National Rubber Ducky Day, 2021-01-13', 'Tamil Thai Pongdal Day, 2021-01-14', 'National Bagel Day, 2021-01-15', 'Signing of the Peace Accords, 2021-01-16']\n"
     ]
    }
   ],
   "source": [
    "\n",
    "#Remove\n",
    "holidayName= str(input('Enter the Holiday Name you will like to Remove\\n'))\n",
    "date= str(input('Enter the Holiday\\'s Date [format:YYYY-MM-DD]\\n'))\n",
    "for i in innerHolidays:\n",
    "    # print(i.split(',')[0])\n",
    "    # print(i.split(', ')[1])\n",
    "    # print(date)\n",
    "    if holidayName == i.split(',')[0] and date == i.split(', ')[1]:\n",
    "        innerHolidays.remove(f'{holidayName}, {date}')\n",
    "        print(innerHolidays)\n",
    "    else:\n",
    "        print('Name or date not in Holiday list.')\n",
    "\n"
   ]
  },
  {
   "cell_type": "code",
   "execution_count": 58,
   "metadata": {},
   "outputs": [
    {
     "name": "stdout",
     "output_type": "stream",
     "text": [
      "The Holiday test on 2022-12-15 has been removed\n",
      "['Margaret Thatcher Day, 2021-01-10', 'World Sketchnote Day, 2021-01-11', 'Zanzibar Revolution Day, 2021-01-12', 'National Rubber Ducky Day, 2021-01-13', 'Tamil Thai Pongdal Day, 2021-01-14', 'National Bagel Day, 2021-01-15', 'Signing of the Peace Accords, 2021-01-16']\n"
     ]
    }
   ],
   "source": [
    "#Remove restructured ## Holiday wrapper doesn't allow this to properly work\n",
    "removeSuccess= True\n",
    "        \n",
    "for i in innerHolidays:\n",
    "    if holidayName == i.split(',')[0] and date == i.split(', ')[1]:\n",
    "        innerHolidays.remove(f'{holidayName}, {date}')\n",
    "        removeSuccess= False\n",
    "\n",
    "if removeSuccess == False:\n",
    "    print(f'The Holiday {holidayName} on {date} has been removed')\n",
    "    print(innerHolidays)\n",
    "else:\n",
    "    print('The Holiday Name or Date is not included in list')\n",
    "                "
   ]
  },
  {
   "cell_type": "code",
   "execution_count": null,
   "metadata": {},
   "outputs": [],
   "source": [
    "#Remove Redo\n",
    "        for i in self.innerHolidays:\n",
    "            # print(HolidayName)\n",
    "            # print(type(str(Date)))\n",
    "            # print(str(Date))\n",
    "            # print(self.innerHolidays)\n",
    "            # print(type(i))\n",
    "            # print(Holiday)\n",
    "            # print(vars(i))\n",
    "            # print(str(i))\n",
    "            # print(str(i).split(',')[0]) \n",
    "            # print(str(i).split(', ')[1])\n",
    "            if type(i) == Holiday:\n",
    "                if HolidayName == str(i).split(',')[0] and str(Date) == str(i).split(', ')[1]:\n",
    "                    self.innerHolidays.remove(i)\n",
    "                    removeSuccess= False\n",
    "                    \n",
    "        for j in range(len(self.innerHolidays)):\n",
    "            print(self.innerHolidays[j])\n",
    "            # print(str(i).split(',')[0]) \n",
    "            # print(str(i).split(', ')[1])"
   ]
  },
  {
   "cell_type": "code",
   "execution_count": null,
   "metadata": {},
   "outputs": [],
   "source": [
    "#saving files json.dump\n",
    "\n"
   ]
  },
  {
   "cell_type": "code",
   "execution_count": null,
   "metadata": {},
   "outputs": [],
   "source": [
    "#exit\n",
    "def exitConfirmed(exit_input):\n",
    "    exitConfimation=True\n",
    "    while exitConfimation==True:\n",
    "        if exit_input.lower()== 'y' or exit_input.lower() =='n':\n",
    "            exitConfimation= False\n",
    "            return exit_input\n",
    "        else: \n",
    "            print('Invalid input. Try Again')\n",
    "        \n"
   ]
  },
  {
   "cell_type": "code",
   "execution_count": null,
   "metadata": {},
   "outputs": [],
   "source": [
    "#Save\n",
    "def saveConfirmed(save_input):\n",
    "    saveConfirmation=True\n",
    "    while saveConfirmation==True:\n",
    "        save_input= input('Are you sure you want to save your changes? [y/n]: ')\n",
    "        if save_input.lower()== 'y' or save_input.lower() =='n':\n",
    "            saveConfimation= False\n",
    "            return save_input\n",
    "        else: \n",
    "            print('Invalid input. Try Again')"
   ]
  },
  {
   "cell_type": "code",
   "execution_count": 105,
   "metadata": {},
   "outputs": [
    {
     "data": {
      "text/plain": [
       "50"
      ]
     },
     "execution_count": 105,
     "metadata": {},
     "output_type": "execute_result"
    }
   ],
   "source": [
    "date = datetime.date(2022,12,20)\n",
    "str(date)\n",
    "\n",
    "datetime.datetime.now().isocalendar()[1] #weeknumber\n",
    "\n",
    "datetime.datetime.now().isocalendar()[2] #weekday\n",
    "\n"
   ]
  },
  {
   "cell_type": "code",
   "execution_count": 159,
   "metadata": {},
   "outputs": [],
   "source": [
    "url='https://www.timeanddate.com/holidays/us/'\n",
    "results= requests.get(url)\n",
    "holiday= BeautifulSoup(results.text,'html.parser')\n",
    "\n"
   ]
  },
  {
   "cell_type": "code",
   "execution_count": 94,
   "metadata": {},
   "outputs": [],
   "source": [
    "import datetime\n",
    "import json\n",
    "from bs4 import BeautifulSoup\n",
    "import requests\n",
    "from dataclasses import dataclass\n"
   ]
  },
  {
   "cell_type": "code",
   "execution_count": 87,
   "metadata": {},
   "outputs": [],
   "source": [
    "\n",
    "\n",
    "# -------------------------------------------\n",
    "# Modify the holiday class to \n",
    "# 1. Only accept Datetime objects for date.\n",
    "# 2. You may need to add additional functions\n",
    "# 3. You may drop the init if you are using @dataclasses\n",
    "# --------------------------------------------\n",
    "class Holiday:\n",
    "      \n",
    "    def __init__(self,name, date):\n",
    "        self.name=name\n",
    "        self.date= date\n",
    "\n",
    "    \n",
    "    def __str__ (self):\n",
    "        return f'{self.name}, {self.date}'\n"
   ]
  },
  {
   "cell_type": "code",
   "execution_count": 89,
   "metadata": {},
   "outputs": [],
   "source": [
    "         \n",
    "# -------------------------------------------\n",
    "# The HolidayList class acts as a wrapper and container\n",
    "# For the list of holidays\n",
    "# Each method has pseudo-code instructions\n",
    "# --------------------------------------------\n",
    "class HolidayList:\n",
    "\n",
    "    def __init__(self):\n",
    "       self.innerHolidays = []\n",
    "   \n",
    "    def addHoliday(self,holidayObj):\n",
    "        if type(holidayObj)==Holiday:                 # Make sure holidayObj is an Holiday Object by checking the type\n",
    "            innerHolidays.append(holidayObj)    # Use innerHolidays.append(holidayObj) to add holiday\n",
    "            print(f'Added {holidayObj}')        # print to the user that you added a holiday\n",
    "    \n"
   ]
  },
  {
   "cell_type": "code",
   "execution_count": 93,
   "metadata": {},
   "outputs": [
    {
     "ename": "TypeError",
     "evalue": "findHoliday() missing 1 required positional argument: 'self'",
     "output_type": "error",
     "traceback": [
      "\u001b[1;31m---------------------------------------------------------------------------\u001b[0m",
      "\u001b[1;31mTypeError\u001b[0m                                 Traceback (most recent call last)",
      "\u001b[1;32m<ipython-input-93-f71a199c7f17>\u001b[0m in \u001b[0;36m<module>\u001b[1;34m\u001b[0m\n\u001b[0;32m      6\u001b[0m     \u001b[1;31m# Find Holiday in innerHolidays\u001b[0m\u001b[1;33m\u001b[0m\u001b[1;33m\u001b[0m\u001b[1;33m\u001b[0m\u001b[0m\n\u001b[0;32m      7\u001b[0m     \u001b[1;31m# Return Holiday\u001b[0m\u001b[1;33m\u001b[0m\u001b[1;33m\u001b[0m\u001b[1;33m\u001b[0m\u001b[0m\n\u001b[1;32m----> 8\u001b[1;33m \u001b[0mfindHoliday\u001b[0m\u001b[1;33m(\u001b[0m\u001b[0mHolidyName\u001b[0m\u001b[1;33m=\u001b[0m\u001b[1;34m'Bob'\u001b[0m\u001b[1;33m,\u001b[0m \u001b[0mDates\u001b[0m\u001b[1;33m=\u001b[0m\u001b[1;34m'2022-12-15'\u001b[0m\u001b[1;33m)\u001b[0m\u001b[1;33m\u001b[0m\u001b[1;33m\u001b[0m\u001b[0m\n\u001b[0m",
      "\u001b[1;31mTypeError\u001b[0m: findHoliday() missing 1 required positional argument: 'self'"
     ]
    }
   ],
   "source": [
    "\n",
    "def findHoliday(self,HolidayName, Dates):\n",
    "    print('')\n",
    "    pass\n",
    "    # for i in self.innerHolidays:\n",
    "    #     return type(i)\n",
    "\n",
    "    # Find Holiday in innerHolidays\n",
    "    # Return Holiday\n"
   ]
  },
  {
   "cell_type": "code",
   "execution_count": null,
   "metadata": {},
   "outputs": [],
   "source": []
  },
  {
   "cell_type": "code",
   "execution_count": null,
   "metadata": {},
   "outputs": [],
   "source": [
    "\n",
    "    def removeHoliday(self,HolidayName, Date):\n",
    "        pass\n",
    "        # Find Holiday in innerHolidays by searching the name and date combination.\n",
    "        # remove the Holiday from innerHolidays\n",
    "        # inform user you deleted the holiday\n"
   ]
  },
  {
   "cell_type": "code",
   "execution_count": 88,
   "metadata": {},
   "outputs": [],
   "source": [
    "\n",
    "    def read_json(self,filelocation):\n",
    "        with open(filelocation,'r') as h:\n",
    "            holiday= json.load(h)\n",
    "\n",
    "        holi= holiday['holidays']\n",
    "        for i in range(len(holi)):\n",
    "            name= holiday['holidays'][i]['name']\n",
    "            date= holiday['holidays'][i]['date']\n",
    "            self.addHoliday(Holiday(name,date))\n",
    "\n",
    "   \n",
    "        # Read in things from json file location\n",
    "        # Use addHoliday function to add holidays to inner list.\n"
   ]
  },
  {
   "cell_type": "code",
   "execution_count": 165,
   "metadata": {},
   "outputs": [],
   "source": [
    "\n",
    "    def save_to_json(self,filelocation):\n",
    "        pass\n",
    "        # Write out json file to selected file.\n",
    "        \n",
    "    def scrapeHolidays(self):\n",
    "        pass\n",
    "        # Scrape Holidays from https://www.timeanddate.com/holidays/us/ \n",
    "        # Remember, 2 previous years, current year, and 2  years into the future. You can scrape multiple years by adding year to the timeanddate URL. For example https://www.timeanddate.com/holidays/us/2022\n",
    "        # Check to see if name and date of holiday is in innerHolidays array\n",
    "        # Add non-duplicates to innerHolidays\n",
    "        # Handle any exceptions.     \n",
    "\n",
    "    def numHolidays(self):\n",
    "        pass\n",
    "        # Return the total number of holidays in innerHolidays\n",
    "    \n",
    "    def filter_holidays_by_week(self,year, week_number):\n",
    "        pass\n",
    "        # Use a Lambda function to filter by week number and save this as holidays, use the filter on innerHolidays\n",
    "        # Week number is part of the the Datetime object\n",
    "        # Cast filter results as list\n",
    "        # return your holidays\n",
    "\n",
    "    def displayHolidaysInWeek(self,holidayList):\n",
    "        pass\n",
    "        # Use your filter_holidays_by_week to get list of holidays within a week as a parameter\n",
    "        # Output formated holidays in the week. \n",
    "        # * Remember to use the holiday __str__ method.\n",
    "\n",
    "    def getWeather(self,weekNum):\n",
    "        pass\n",
    "        # Convert weekNum to range between two days\n",
    "        # Use Try / Except to catch problems\n",
    "        # Query API for weather in that week range\n",
    "        # Format weather information and return weather string.\n",
    "\n",
    "    def viewCurrentWeek(self):\n",
    "        pass\n",
    "        # Use the Datetime Module to look up current week and year\n",
    "        # Use your filter_holidays_by_week function to get the list of holidays \n",
    "        # for the current week/year\n",
    "        # Use your displayHolidaysInWeek function to display the holidays in the week\n",
    "        # Ask user if they want to get the weather\n",
    "        # If yes, use your getWeather function and display results\n",
    "\n"
   ]
  },
  {
   "cell_type": "code",
   "execution_count": 166,
   "metadata": {},
   "outputs": [],
   "source": [
    "\n",
    "\n",
    "def main():\n",
    "    init_holidays = HolidayList()\n",
    "    init_holidays.read_json('holidays.json')\n",
    "    # Large Pseudo Code steps\n",
    "    # -------------------------------------\n",
    "    # 1. Initialize HolidayList Object\n",
    "    # 2. Load JSON file via HolidayList read_json function\n",
    "    # 3. Scrape additional holidays using your HolidayList scrapeHolidays function.\n",
    "    # 3. Create while loop for user to keep adding or working with the Calender\n",
    "    # 4. Display User Menu (Print the menu)\n",
    "    # 5. Take user input for their action based on Menu and check the user input for errors\n",
    "    # 6. Run appropriate method from the HolidayList object depending on what the user input is\n",
    "    # 7. Ask the User if they would like to Continue, if not, end the while loop, ending the program.  If they do wish to continue, keep the program going. \n",
    "\n"
   ]
  },
  {
   "cell_type": "code",
   "execution_count": 167,
   "metadata": {},
   "outputs": [
    {
     "ename": "AttributeError",
     "evalue": "'HolidayList' object has no attribute 'read_json'",
     "output_type": "error",
     "traceback": [
      "\u001b[1;31m---------------------------------------------------------------------------\u001b[0m",
      "\u001b[1;31mAttributeError\u001b[0m                            Traceback (most recent call last)",
      "\u001b[1;32m<ipython-input-167-99ddb181dabd>\u001b[0m in \u001b[0;36m<module>\u001b[1;34m\u001b[0m\n\u001b[0;32m      1\u001b[0m \u001b[1;32mif\u001b[0m \u001b[0m__name__\u001b[0m \u001b[1;33m==\u001b[0m \u001b[1;34m\"__main__\"\u001b[0m\u001b[1;33m:\u001b[0m\u001b[1;33m\u001b[0m\u001b[1;33m\u001b[0m\u001b[0m\n\u001b[1;32m----> 2\u001b[1;33m     \u001b[0mmain\u001b[0m\u001b[1;33m(\u001b[0m\u001b[1;33m)\u001b[0m\u001b[1;33m;\u001b[0m\u001b[1;33m\u001b[0m\u001b[1;33m\u001b[0m\u001b[0m\n\u001b[0m\u001b[0;32m      3\u001b[0m \u001b[1;33m\u001b[0m\u001b[0m\n\u001b[0;32m      4\u001b[0m \u001b[1;33m\u001b[0m\u001b[0m\n\u001b[0;32m      5\u001b[0m \u001b[1;31m# Additional Hints:\u001b[0m\u001b[1;33m\u001b[0m\u001b[1;33m\u001b[0m\u001b[1;33m\u001b[0m\u001b[0m\n",
      "\u001b[1;32m<ipython-input-166-3d5b8d6eddc5>\u001b[0m in \u001b[0;36mmain\u001b[1;34m()\u001b[0m\n\u001b[0;32m      1\u001b[0m \u001b[1;32mdef\u001b[0m \u001b[0mmain\u001b[0m\u001b[1;33m(\u001b[0m\u001b[1;33m)\u001b[0m\u001b[1;33m:\u001b[0m\u001b[1;33m\u001b[0m\u001b[1;33m\u001b[0m\u001b[0m\n\u001b[0;32m      2\u001b[0m     \u001b[0minit_holidays\u001b[0m \u001b[1;33m=\u001b[0m \u001b[0mHolidayList\u001b[0m\u001b[1;33m(\u001b[0m\u001b[1;33m)\u001b[0m\u001b[1;33m\u001b[0m\u001b[1;33m\u001b[0m\u001b[0m\n\u001b[1;32m----> 3\u001b[1;33m     \u001b[0minit_holidays\u001b[0m\u001b[1;33m.\u001b[0m\u001b[0mread_json\u001b[0m\u001b[1;33m(\u001b[0m\u001b[1;34m'holidays.json'\u001b[0m\u001b[1;33m)\u001b[0m\u001b[1;33m\u001b[0m\u001b[1;33m\u001b[0m\u001b[0m\n\u001b[0m\u001b[0;32m      4\u001b[0m     \u001b[1;31m# Large Pseudo Code steps\u001b[0m\u001b[1;33m\u001b[0m\u001b[1;33m\u001b[0m\u001b[1;33m\u001b[0m\u001b[0m\n\u001b[0;32m      5\u001b[0m     \u001b[1;31m# -------------------------------------\u001b[0m\u001b[1;33m\u001b[0m\u001b[1;33m\u001b[0m\u001b[1;33m\u001b[0m\u001b[0m\n",
      "\u001b[1;31mAttributeError\u001b[0m: 'HolidayList' object has no attribute 'read_json'"
     ]
    }
   ],
   "source": [
    "\n",
    "if __name__ == \"__main__\":\n",
    "    main();\n",
    "\n",
    "\n",
    "# Additional Hints:\n",
    "# ---------------------------------------------\n",
    "# You may need additional helper functions both in and out of the classes, add functions as you need to.\n",
    "#\n",
    "# No one function should be more then 50 lines of code, if you need more then 50 lines of code\n",
    "# excluding comments, break the function into multiple functions.\n",
    "#\n",
    "# You can store your raw menu text, and other blocks of texts as raw text files \n",
    "# and use placeholder values with the format option.\n",
    "# Example:\n",
    "# In the file test.txt is \"My name is {fname}, I'm {age}\"\n",
    "# Then you later can read the file into a string \"filetxt\"\n",
    "# and substitute the placeholders \n",
    "# for example: filetxt.format(fname = \"John\", age = 36)\n",
    "# This will make your code far more readable, by seperating text from code.\n",
    "\n",
    "\n",
    "\n",
    "\n",
    "\n"
   ]
  }
 ],
 "metadata": {
  "kernelspec": {
   "display_name": "base",
   "language": "python",
   "name": "python3"
  },
  "language_info": {
   "codemirror_mode": {
    "name": "ipython",
    "version": 3
   },
   "file_extension": ".py",
   "mimetype": "text/x-python",
   "name": "python",
   "nbconvert_exporter": "python",
   "pygments_lexer": "ipython3",
   "version": "3.8.3"
  },
  "orig_nbformat": 4,
  "vscode": {
   "interpreter": {
    "hash": "7906ef4e2a83e79236346c62748e6d68f2f046a16da314390fe379e115e57e5c"
   }
  }
 },
 "nbformat": 4,
 "nbformat_minor": 2
}
