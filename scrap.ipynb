{
 "cells": [
  {
   "cell_type": "code",
   "execution_count": 99,
   "metadata": {},
   "outputs": [
    {
     "data": {
      "text/plain": [
       "['Jan', '4']"
      ]
     },
     "execution_count": 99,
     "metadata": {},
     "output_type": "execute_result"
    }
   ],
   "source": [
    "import datetime\n",
    "import json\n",
    "from bs4 import BeautifulSoup\n",
    "import requests\n",
    "from dataclasses import dataclass\n",
    "\n",
    "url='https://www.timeanddate.com/holidays/us/'\n",
    "results= requests.get(url)\n",
    "holiday= BeautifulSoup(results.text,'html.parser')\n",
    "\n",
    "holiday_table= holiday.find('table', attrs={'id':\"holidays-table\"})\n",
    "holiday_tbody= holiday_table.find('tbody')\n",
    "# h1=holiday_tbody.find_all('tr')\n",
    "# h1.find_all('td')\n",
    "\n",
    "# for i in range(1,len(holiday_tbody.find_all('tr'))-5):\n",
    "h1=holiday_tbody.find_all('tr')[5]\n",
    "h2=h1.find('a').string\n",
    "# h2= h1.find('a').get_text() ## Holiday Name\n",
    "h3= h1.find('th').get_text() ##Holiday Month and day \n",
    "h3.split(' ') #month and day list\n",
    "\n",
    "# print(holiday_table)\n",
    "# <table id=\"holidays-table\" "
   ]
  },
  {
   "cell_type": "code",
   "execution_count": 103,
   "metadata": {},
   "outputs": [],
   "source": [
    "import datetime\n",
    "import json\n",
    "from bs4 import BeautifulSoup\n",
    "import requests\n",
    "from dataclasses import dataclass\n",
    "\n",
    "\n",
    "\n",
    "url='https://www.timeanddate.com/holidays/us/'\n",
    "request= requests.get(url)\n",
    "html= BeautifulSoup(request.text,'html.parser')\n",
    "\n"
   ]
  },
  {
   "cell_type": "code",
   "execution_count": 142,
   "metadata": {},
   "outputs": [
    {
     "name": "stdout",
     "output_type": "stream",
     "text": [
      "2022-01-01 <class 'str'>\n",
      "2022-01-01 <class 'str'>\n",
      "2022-01-01 <class 'str'>\n",
      "2022-01-03 <class 'str'>\n",
      "2022-01-04 <class 'str'>\n",
      "2022-01-06 <class 'str'>\n"
     ]
    },
    {
     "data": {
      "text/plain": [
       "{('Epiphany', '2022-01-06'),\n",
       " (\"New Year's Day\", '2022-01-01'),\n",
       " (\"New Year's Day (substitute)\", '2022-01-03'),\n",
       " ('World Braille Day', '2022-01-04')}"
      ]
     },
     "execution_count": 142,
     "metadata": {},
     "output_type": "execute_result"
    }
   ],
   "source": [
    "from datetime import datetime\n",
    "year= 2022\n",
    "\n",
    "table= html.find('table').find('tbody')\n",
    "rows= table.find_all('tr')\n",
    "\n",
    "holidays= set() ##Blank set\n",
    "for row in rows[:7]:\n",
    "    if len(row.contents) == 0:\n",
    "        continue\n",
    "\n",
    "    date_str= row.find('th').contents[0] + ' ' + str(year)\n",
    "    format= '%b %d %Y'\n",
    "    date= str(datetime.strptime(date_str, format).date())\n",
    "    print(date, type(date))\n",
    "\n",
    "\n",
    "    name= row.find_all('td')[1].find('a').contents[0]\n",
    "\n",
    "    holidays.add((name,date))\n",
    "\n",
    "\n",
    "# x= row\n",
    "# print(name, date, '\\n')\n",
    "\n",
    "holidays"
   ]
  },
  {
   "cell_type": "code",
   "execution_count": null,
   "metadata": {},
   "outputs": [],
   "source": []
  },
  {
   "cell_type": "code",
   "execution_count": null,
   "metadata": {},
   "outputs": [],
   "source": []
  }
 ],
 "metadata": {
  "kernelspec": {
   "display_name": "base",
   "language": "python",
   "name": "python3"
  },
  "language_info": {
   "codemirror_mode": {
    "name": "ipython",
    "version": 3
   },
   "file_extension": ".py",
   "mimetype": "text/x-python",
   "name": "python",
   "nbconvert_exporter": "python",
   "pygments_lexer": "ipython3",
   "version": "3.8.3"
  },
  "orig_nbformat": 4,
  "vscode": {
   "interpreter": {
    "hash": "7906ef4e2a83e79236346c62748e6d68f2f046a16da314390fe379e115e57e5c"
   }
  }
 },
 "nbformat": 4,
 "nbformat_minor": 2
}
