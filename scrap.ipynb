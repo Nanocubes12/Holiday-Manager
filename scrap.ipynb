{
 "cells": [
  {
   "cell_type": "code",
   "execution_count": 99,
   "metadata": {},
   "outputs": [
    {
     "data": {
      "text/plain": [
       "['Jan', '4']"
      ]
     },
     "execution_count": 99,
     "metadata": {},
     "output_type": "execute_result"
    }
   ],
   "source": [
    "import datetime\n",
    "import json\n",
    "from bs4 import BeautifulSoup\n",
    "import requests\n",
    "from dataclasses import dataclass\n",
    "\n",
    "url='https://www.timeanddate.com/holidays/us/'\n",
    "results= requests.get(url)\n",
    "holiday= BeautifulSoup(results.text,'html.parser')\n",
    "\n",
    "holiday_table= holiday.find('table', attrs={'id':\"holidays-table\"})\n",
    "holiday_tbody= holiday_table.find('tbody')\n",
    "# h1=holiday_tbody.find_all('tr')\n",
    "# h1.find_all('td')\n",
    "\n",
    "# for i in range(1,len(holiday_tbody.find_all('tr'))-5):\n",
    "h1=holiday_tbody.find_all('tr')[5]\n",
    "h2=h1.find('a').string\n",
    "# h2= h1.find('a').get_text() ## Holiday Name\n",
    "h3= h1.find('th').get_text() ##Holiday Month and day \n",
    "h3.split(' ') #month and day list\n",
    "\n",
    "# print(holiday_table)\n",
    "# <table id=\"holidays-table\" "
   ]
  },
  {
   "cell_type": "code",
   "execution_count": null,
   "metadata": {},
   "outputs": [],
   "source": []
  }
 ],
 "metadata": {
  "kernelspec": {
   "display_name": "base",
   "language": "python",
   "name": "python3"
  },
  "language_info": {
   "codemirror_mode": {
    "name": "ipython",
    "version": 3
   },
   "file_extension": ".py",
   "mimetype": "text/x-python",
   "name": "python",
   "nbconvert_exporter": "python",
   "pygments_lexer": "ipython3",
   "version": "3.8.3"
  },
  "orig_nbformat": 4,
  "vscode": {
   "interpreter": {
    "hash": "7906ef4e2a83e79236346c62748e6d68f2f046a16da314390fe379e115e57e5c"
   }
  }
 },
 "nbformat": 4,
 "nbformat_minor": 2
}
